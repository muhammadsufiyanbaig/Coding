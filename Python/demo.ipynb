{
 "cells": [
  {
   "cell_type": "markdown",
   "metadata": {},
   "source": [
    "# **PYTHON**"
   ]
  },
  {
   "cell_type": "markdown",
   "metadata": {},
   "source": [
    "### **Variable**"
   ]
  },
  {
   "cell_type": "code",
   "execution_count": 2,
   "metadata": {},
   "outputs": [
    {
     "name": "stdout",
     "output_type": "stream",
     "text": [
      "sufiyan\n"
     ]
    }
   ],
   "source": [
    "name = 'sufiyan'\n",
    "print(name)"
   ]
  },
  {
   "cell_type": "markdown",
   "metadata": {},
   "source": [
    "### **Data Types**"
   ]
  },
  {
   "cell_type": "code",
   "execution_count": 6,
   "metadata": {},
   "outputs": [
    {
     "name": "stdout",
     "output_type": "stream",
     "text": [
      "Muhammad Sufiyan Baig \n",
      " 18 \n",
      " 5.9 \n",
      " ['Web Developement', 'Graphic Designing'] \n",
      " ('Muhammad', 'Sufiyan', 'Baig') \n",
      " {'name': 'Sufiyan', 'age': 18, 'height': 5.9, 'skills': ['Web Developement', 'Graphic Designing'], 'tap': ('Muhammad', 'Sufiyan', 'Baig')}\n"
     ]
    }
   ],
   "source": [
    "name:str = 'Muhammad Sufiyan Baig'\n",
    "age:int = 18\n",
    "height:float = 5.9\n",
    "skills:list[str] = ['Web Developement', 'Graphic Designing']\n",
    "tap:tuple = ('Muhammad', \"Sufiyan\", \"Baig\")\n",
    "obj:dict = {\"name\": \"Sufiyan\", \"age\": 18, \"height\": height, \"skills\":skills, \"tap\":tap}\n",
    "\n",
    "print(name, \"\\n\", age, \"\\n\", height, \"\\n\", skills, \"\\n\", tap, \"\\n\", obj)"
   ]
  },
  {
   "cell_type": "markdown",
   "metadata": {},
   "source": [
    "### **String Method**"
   ]
  },
  {
   "cell_type": "code",
   "execution_count": 19,
   "metadata": {},
   "outputs": [
    {
     "name": "stdout",
     "output_type": "stream",
     "text": [
      "Original:  Muhammad Sufiyan Baig\n",
      "\n",
      "Capitalize:  Muhammad sufiyan baig\n",
      "\n",
      "UpperCase:  MUHAMMAD SUFIYAN BAIG\n",
      "\n",
      "LowerCase:  muhammad sufiyan baig\n",
      "\n",
      "TitleCase:  Muhammad Sufiyan Baig\n"
     ]
    }
   ],
   "source": [
    "name = \"Muhammad Sufiyan Baig\"\n",
    "print(\"Original: \",name) #Original\n",
    "print(\"\\nCapitalize: \",name.capitalize()) #Capitalize\n",
    "print(\"\\nUpperCase: \",name.upper()) #UpperCase\n",
    "print(\"\\nLowerCase: \",name.lower()) #LowerCase\n",
    "print(\"\\nTitleCase: \",name.title()) #TitleCase\n",
    "\n",
    "name4 = \"\"\" \n",
    "Muhammad  \n",
    "Sufiyan  \n",
    "Baig\n",
    "\"\"\" #multi Line string\n",
    "name5 = \"Muhammad \\\"Sufiyan\\\"  Baig\"  #Qoutation between String\n",
    "name6 = \"Muhammad\" + \" \" + \"Sufiyan\" + \" \" + \"Baig\"  #Concatinating\n",
    "name7 = f\"{name} \" #f-string Method\n",
    "text = \"I am {}, my age is {} and I am {}\".format(\"Sufiyan\", 18, \"Full-Stack Developer\")  #Format\n",
    "text1 = \"I am {1}, my age is {0} and I am {2}\".format(\"Sufiyan\", 18, \"Full-Stack Developer\")  #Format with index\n",
    "text2 = \"I am {name}, my age is {age} and I am {occupation}\".format(name=\"Sufiyan\", age=18, occupation=\"Full-Stack Developer\") #Format with Keys\n",
    "\n",
    "print(name4)\n",
    "print(name5)\n",
    "print(name6)\n",
    "print(name7)\n",
    "print(text)\n",
    "print(text1)\n",
    "print(text2)"
   ]
  },
  {
   "cell_type": "markdown",
   "metadata": {},
   "source": [
    "### **Escape Sequence & and Some methods**"
   ]
  },
  {
   "cell_type": "code",
   "execution_count": 20,
   "metadata": {},
   "outputs": [
    {
     "name": "stdout",
     "output_type": "stream",
     "text": [
      "Muhammad Sufiyan Baig\n",
      "Muhammad \n",
      " Sufiyan \n",
      " Baig\n",
      "Muhammad \t Sufiyan \t Baig\n",
      " Baigyan \n"
     ]
    }
   ],
   "source": [
    "name = \"Muhammad Sufiyan Baig\"           #Original\n",
    "name1 = \"Muhammad \\n Sufiyan \\n Baig\"    #New Line\n",
    "name2 = \"Muhammad \\t Sufiyan \\t Baig\"    #Tab Space\n",
    "name3 = \"Muhammad \\r Sufiyan \\r Baig\"    #Carriage Return\n",
    "print(name)\n",
    "print(name1)\n",
    "print(name2)\n",
    "print(name3)\n"
   ]
  },
  {
   "cell_type": "markdown",
   "metadata": {},
   "source": [
    "### **Number Method**"
   ]
  },
  {
   "cell_type": "code",
   "execution_count": null,
   "metadata": {},
   "outputs": [],
   "source": []
  }
 ],
 "metadata": {
  "kernelspec": {
   "display_name": "Python 3",
   "language": "python",
   "name": "python3"
  },
  "language_info": {
   "codemirror_mode": {
    "name": "ipython",
    "version": 3
   },
   "file_extension": ".py",
   "mimetype": "text/x-python",
   "name": "python",
   "nbconvert_exporter": "python",
   "pygments_lexer": "ipython3",
   "version": "3.12.4"
  }
 },
 "nbformat": 4,
 "nbformat_minor": 2
}
